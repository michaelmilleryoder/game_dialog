{
 "cells": [
  {
   "cell_type": "markdown",
   "id": "9a747636-afdf-40b3-a5a2-b79e7b67b802",
   "metadata": {},
   "source": [
    "# Check how much data is parsed"
   ]
  },
  {
   "cell_type": "markdown",
   "id": "571edff5-4f7a-4d89-bf21-3e21ea7543cc",
   "metadata": {},
   "source": [
    "## Combined"
   ]
  },
  {
   "cell_type": "code",
   "execution_count": 9,
   "id": "ce65c4cc-56ac-495d-a336-c35f23aaee0a",
   "metadata": {
    "scrolled": true,
    "tags": []
   },
   "outputs": [
    {
     "name": "stdout",
     "output_type": "stream",
     "text": [
      "69\n"
     ]
    },
    {
     "data": {
      "text/plain": [
       "61"
      ]
     },
     "execution_count": 9,
     "metadata": {},
     "output_type": "execute_result"
    }
   ],
   "source": [
    "from glob import glob\n",
    "import os\n",
    "\n",
    "data_dirpath = '../data/'\n",
    "search_dirpath = os.path.join(data_dirpath, '*/*')\n",
    "fpaths = [path for path in glob(search_dirpath) if os.path.isdir(path) and not 'Test' in path]\n",
    "\n",
    "completed = dict()\n",
    "for dirpath in fpaths:\n",
    "    completed[dirpath] = False\n",
    "    if 'data.json' in os.listdir(dirpath):\n",
    "        completed[dirpath] = True\n",
    "print(len(completed))\n",
    "sum(completed.values())"
   ]
  },
  {
   "cell_type": "markdown",
   "id": "38051e29-70ad-4dad-add8-45588110185b",
   "metadata": {},
   "source": [
    "## Mine and Lynnette's runs"
   ]
  },
  {
   "cell_type": "code",
   "execution_count": 2,
   "id": "00207b2f-91c9-4ead-87dc-9ac7a3e305fe",
   "metadata": {
    "scrolled": true,
    "tags": []
   },
   "outputs": [
    {
     "name": "stdout",
     "output_type": "stream",
     "text": [
      "69\n",
      "69\n"
     ]
    }
   ],
   "source": [
    "from glob import glob\n",
    "import os\n",
    "\n",
    "michael_data_dirpath = '../data/VideoGameDialogueCorpusPublic-main/data/'\n",
    "lynn_data_dirpath = '../VideoGameLynn/VideoGameDialogueCorpusPublic-main/data/'\n",
    "michael_search_dirpath = os.path.join(michael_data_dirpath, '*/*')\n",
    "lynn_search_dirpath = os.path.join(lynn_data_dirpath, '*/*')\n",
    "michael_fpaths = [path for path in glob(michael_search_dirpath) if os.path.isdir(path) and not 'Test' in path]\n",
    "lynn_fpaths = [path for path in glob(lynn_search_dirpath) if os.path.isdir(path) and not 'Test' in path]\n",
    "print(len(michael_fpaths))\n",
    "print(len(lynn_fpaths))"
   ]
  },
  {
   "cell_type": "code",
   "execution_count": 3,
   "id": "2bcbbc2d-d855-4ea3-82eb-18408fb76e4c",
   "metadata": {
    "tags": []
   },
   "outputs": [
    {
     "name": "stdout",
     "output_type": "stream",
     "text": [
      "69\n"
     ]
    },
    {
     "data": {
      "text/plain": [
       "8"
      ]
     },
     "execution_count": 3,
     "metadata": {},
     "output_type": "execute_result"
    }
   ],
   "source": [
    "michael_completed = dict()\n",
    "\n",
    "for dirpath in michael_fpaths:\n",
    "    michael_completed[dirpath] = False\n",
    "    if 'data.json' in os.listdir(dirpath):\n",
    "        michael_completed[dirpath] = True\n",
    "print(len(michael_completed))\n",
    "sum(michael_completed.values())"
   ]
  },
  {
   "cell_type": "code",
   "execution_count": 6,
   "id": "ddf69e6b-7446-46d5-a89f-b10e45c2c29e",
   "metadata": {
    "tags": []
   },
   "outputs": [
    {
     "data": {
      "text/plain": [
       "{'../data/VideoGameDialogueCorpusPublic-main/data/Persona/Persona3': True,\n",
       " '../data/VideoGameDialogueCorpusPublic-main/data/Persona/Persona4': True,\n",
       " '../data/VideoGameDialogueCorpusPublic-main/data/Persona/Persona5B': True,\n",
       " '../data/VideoGameDialogueCorpusPublic-main/data/Persona/Persona5': True,\n",
       " '../data/VideoGameDialogueCorpusPublic-main/data/Tales/TalesOfVesperia': True,\n",
       " '../data/VideoGameDialogueCorpusPublic-main/data/StardewValley/StardewValley': True,\n",
       " '../data/VideoGameDialogueCorpusPublic-main/data/Horizon/HorizonForbiddenWest': True,\n",
       " '../data/VideoGameDialogueCorpusPublic-main/data/Horizon/HorizonZeroDawn': True,\n",
       " '../data/VideoGameDialogueCorpusPublic-main/data/DragonAge/DragonAge2': False,\n",
       " '../data/VideoGameDialogueCorpusPublic-main/data/DragonAge/DragonAgeInquisition': False,\n",
       " '../data/VideoGameDialogueCorpusPublic-main/data/DragonAge/DragonAgeOrigins_B': False,\n",
       " '../data/VideoGameDialogueCorpusPublic-main/data/DragonAge/DragonAgeOrigins': False,\n",
       " '../data/VideoGameDialogueCorpusPublic-main/data/MassEffect/MassEffectAndromeda': False,\n",
       " '../data/VideoGameDialogueCorpusPublic-main/data/MassEffect/MassEffect1B': False,\n",
       " '../data/VideoGameDialogueCorpusPublic-main/data/MassEffect/MassEffect3C': False,\n",
       " '../data/VideoGameDialogueCorpusPublic-main/data/MassEffect/MassEffect2': False,\n",
       " '../data/VideoGameDialogueCorpusPublic-main/data/MassEffect/MassEffect1': False,\n",
       " '../data/VideoGameDialogueCorpusPublic-main/data/MassEffect/MassEffect3B': False,\n",
       " '../data/VideoGameDialogueCorpusPublic-main/data/MassEffect/MassEffect3': False,\n",
       " '../data/VideoGameDialogueCorpusPublic-main/data/SuperMarioRPG/SuperMarioRPG': False,\n",
       " '../data/VideoGameDialogueCorpusPublic-main/data/DiscoElysium/DiscoElysium': False,\n",
       " '../data/VideoGameDialogueCorpusPublic-main/data/StarWarsKOTOR/StarWarsKOTOR': False,\n",
       " '../data/VideoGameDialogueCorpusPublic-main/data/ElderScrolls/Skyrim': False,\n",
       " '../data/VideoGameDialogueCorpusPublic-main/data/ElderScrolls/Oblivion': False,\n",
       " '../data/VideoGameDialogueCorpusPublic-main/data/ElderScrolls/Daggerfall': False,\n",
       " '../data/VideoGameDialogueCorpusPublic-main/data/ElderScrolls/Morrowind': False,\n",
       " '../data/VideoGameDialogueCorpusPublic-main/data/MonkeyIsland/MonkeyIsland2': False,\n",
       " '../data/VideoGameDialogueCorpusPublic-main/data/MonkeyIsland/TheCurseOfMonkeyIsland': False,\n",
       " '../data/VideoGameDialogueCorpusPublic-main/data/MonkeyIsland/TheSecretOfMonkeyIsland': False,\n",
       " '../data/VideoGameDialogueCorpusPublic-main/data/ChronoTrigger/ChronoTrigger': False,\n",
       " '../data/VideoGameDialogueCorpusPublic-main/data/KingdomHearts/KingdomHearts_B': False,\n",
       " '../data/VideoGameDialogueCorpusPublic-main/data/KingdomHearts/KingdomHearts2': False,\n",
       " '../data/VideoGameDialogueCorpusPublic-main/data/KingdomHearts/KingdomHearts3D': False,\n",
       " '../data/VideoGameDialogueCorpusPublic-main/data/KingdomHearts/KingdomHearts': False,\n",
       " '../data/VideoGameDialogueCorpusPublic-main/data/KingdomHearts/KingdomHearts3': False,\n",
       " '../data/VideoGameDialogueCorpusPublic-main/data/FinalFantasy/FFV': False,\n",
       " '../data/VideoGameDialogueCorpusPublic-main/data/FinalFantasy/FFXIII-2': False,\n",
       " '../data/VideoGameDialogueCorpusPublic-main/data/FinalFantasy/FFIX': False,\n",
       " '../data/VideoGameDialogueCorpusPublic-main/data/FinalFantasy/FFX': False,\n",
       " '../data/VideoGameDialogueCorpusPublic-main/data/FinalFantasy/FFVI_B': False,\n",
       " '../data/VideoGameDialogueCorpusPublic-main/data/FinalFantasy/FFXIII-LR': False,\n",
       " '../data/VideoGameDialogueCorpusPublic-main/data/FinalFantasy/FFXIII': False,\n",
       " '../data/VideoGameDialogueCorpusPublic-main/data/FinalFantasy/FFXIV': False,\n",
       " '../data/VideoGameDialogueCorpusPublic-main/data/FinalFantasy/FFXII': False,\n",
       " '../data/VideoGameDialogueCorpusPublic-main/data/FinalFantasy/FFIII': False,\n",
       " '../data/VideoGameDialogueCorpusPublic-main/data/FinalFantasy/FFI': False,\n",
       " '../data/VideoGameDialogueCorpusPublic-main/data/FinalFantasy/FFX2': False,\n",
       " '../data/VideoGameDialogueCorpusPublic-main/data/FinalFantasy/FFIV_DS': False,\n",
       " '../data/VideoGameDialogueCorpusPublic-main/data/FinalFantasy/FFVI_C': False,\n",
       " '../data/VideoGameDialogueCorpusPublic-main/data/FinalFantasy/FFX_B': False,\n",
       " '../data/VideoGameDialogueCorpusPublic-main/data/FinalFantasy/FFVII': False,\n",
       " '../data/VideoGameDialogueCorpusPublic-main/data/FinalFantasy/FFIV_B': False,\n",
       " '../data/VideoGameDialogueCorpusPublic-main/data/FinalFantasy/FFIX_B': False,\n",
       " '../data/VideoGameDialogueCorpusPublic-main/data/FinalFantasy/FFXV': False,\n",
       " '../data/VideoGameDialogueCorpusPublic-main/data/FinalFantasy/FFVIII': False,\n",
       " '../data/VideoGameDialogueCorpusPublic-main/data/FinalFantasy/FFII': False,\n",
       " '../data/VideoGameDialogueCorpusPublic-main/data/FinalFantasy/FFXII_B': False,\n",
       " '../data/VideoGameDialogueCorpusPublic-main/data/FinalFantasy/FFVII_Remake': False,\n",
       " '../data/VideoGameDialogueCorpusPublic-main/data/FinalFantasy/FFVI': False,\n",
       " '../data/VideoGameDialogueCorpusPublic-main/data/KingsQuest/KingsQuestChapters': False,\n",
       " '../data/VideoGameDialogueCorpusPublic-main/data/KingsQuest/KingsQuest4': False,\n",
       " '../data/VideoGameDialogueCorpusPublic-main/data/KingsQuest/KingsQuest5': False,\n",
       " '../data/VideoGameDialogueCorpusPublic-main/data/KingsQuest/KingsQuest7': False,\n",
       " '../data/VideoGameDialogueCorpusPublic-main/data/KingsQuest/KingsQuest3': False,\n",
       " '../data/VideoGameDialogueCorpusPublic-main/data/KingsQuest/KingsQuest8': False,\n",
       " '../data/VideoGameDialogueCorpusPublic-main/data/KingsQuest/KingsQuest6': False,\n",
       " '../data/VideoGameDialogueCorpusPublic-main/data/KingsQuest/KingsQuest2': False,\n",
       " '../data/VideoGameDialogueCorpusPublic-main/data/KingsQuest/KingsQuest1': False,\n",
       " '../data/VideoGameDialogueCorpusPublic-main/data/Hades/Hades': False}"
      ]
     },
     "execution_count": 6,
     "metadata": {},
     "output_type": "execute_result"
    }
   ],
   "source": [
    "michael_completed"
   ]
  },
  {
   "cell_type": "code",
   "execution_count": 4,
   "id": "a98b405c-14bd-430a-9d6e-7f43a90af55c",
   "metadata": {
    "tags": []
   },
   "outputs": [
    {
     "name": "stdout",
     "output_type": "stream",
     "text": [
      "69\n"
     ]
    },
    {
     "data": {
      "text/plain": [
       "56"
      ]
     },
     "execution_count": 4,
     "metadata": {},
     "output_type": "execute_result"
    }
   ],
   "source": [
    "lynn_completed = dict()\n",
    "\n",
    "for dirpath in lynn_fpaths:\n",
    "    lynn_completed[dirpath] = False\n",
    "    if 'data.json' in os.listdir(dirpath):\n",
    "        lynn_completed[dirpath] = True\n",
    "print(len(lynn_completed))\n",
    "sum(lynn_completed.values())"
   ]
  },
  {
   "cell_type": "code",
   "execution_count": 7,
   "id": "f9a2b5f8-5032-4aed-a9f9-38c2e498af7c",
   "metadata": {
    "tags": []
   },
   "outputs": [
    {
     "data": {
      "text/plain": [
       "{'../VideoGameLynn/VideoGameDialogueCorpusPublic-main/data/Persona/Persona3': False,\n",
       " '../VideoGameLynn/VideoGameDialogueCorpusPublic-main/data/Persona/Persona4': False,\n",
       " '../VideoGameLynn/VideoGameDialogueCorpusPublic-main/data/Persona/Persona5B': False,\n",
       " '../VideoGameLynn/VideoGameDialogueCorpusPublic-main/data/Persona/Persona5': True,\n",
       " '../VideoGameLynn/VideoGameDialogueCorpusPublic-main/data/Tales/TalesOfVesperia': True,\n",
       " '../VideoGameLynn/VideoGameDialogueCorpusPublic-main/data/StardewValley/StardewValley': False,\n",
       " '../VideoGameLynn/VideoGameDialogueCorpusPublic-main/data/Horizon/HorizonForbiddenWest': True,\n",
       " '../VideoGameLynn/VideoGameDialogueCorpusPublic-main/data/Horizon/HorizonZeroDawn': False,\n",
       " '../VideoGameLynn/VideoGameDialogueCorpusPublic-main/data/DragonAge/DragonAge2': False,\n",
       " '../VideoGameLynn/VideoGameDialogueCorpusPublic-main/data/DragonAge/DragonAgeInquisition': True,\n",
       " '../VideoGameLynn/VideoGameDialogueCorpusPublic-main/data/DragonAge/DragonAgeOrigins_B': False,\n",
       " '../VideoGameLynn/VideoGameDialogueCorpusPublic-main/data/DragonAge/DragonAgeOrigins': True,\n",
       " '../VideoGameLynn/VideoGameDialogueCorpusPublic-main/data/MassEffect/MassEffectAndromeda': True,\n",
       " '../VideoGameLynn/VideoGameDialogueCorpusPublic-main/data/MassEffect/MassEffect1B': True,\n",
       " '../VideoGameLynn/VideoGameDialogueCorpusPublic-main/data/MassEffect/MassEffect3C': True,\n",
       " '../VideoGameLynn/VideoGameDialogueCorpusPublic-main/data/MassEffect/MassEffect2': True,\n",
       " '../VideoGameLynn/VideoGameDialogueCorpusPublic-main/data/MassEffect/MassEffect1': True,\n",
       " '../VideoGameLynn/VideoGameDialogueCorpusPublic-main/data/MassEffect/MassEffect3B': True,\n",
       " '../VideoGameLynn/VideoGameDialogueCorpusPublic-main/data/MassEffect/MassEffect3': True,\n",
       " '../VideoGameLynn/VideoGameDialogueCorpusPublic-main/data/SuperMarioRPG/SuperMarioRPG': True,\n",
       " '../VideoGameLynn/VideoGameDialogueCorpusPublic-main/data/DiscoElysium/DiscoElysium': True,\n",
       " '../VideoGameLynn/VideoGameDialogueCorpusPublic-main/data/StarWarsKOTOR/StarWarsKOTOR': True,\n",
       " '../VideoGameLynn/VideoGameDialogueCorpusPublic-main/data/ElderScrolls/Skyrim': True,\n",
       " '../VideoGameLynn/VideoGameDialogueCorpusPublic-main/data/ElderScrolls/Oblivion': True,\n",
       " '../VideoGameLynn/VideoGameDialogueCorpusPublic-main/data/ElderScrolls/Daggerfall': True,\n",
       " '../VideoGameLynn/VideoGameDialogueCorpusPublic-main/data/ElderScrolls/Morrowind': True,\n",
       " '../VideoGameLynn/VideoGameDialogueCorpusPublic-main/data/MonkeyIsland/MonkeyIsland2': True,\n",
       " '../VideoGameLynn/VideoGameDialogueCorpusPublic-main/data/MonkeyIsland/TheCurseOfMonkeyIsland': True,\n",
       " '../VideoGameLynn/VideoGameDialogueCorpusPublic-main/data/MonkeyIsland/TheSecretOfMonkeyIsland': True,\n",
       " '../VideoGameLynn/VideoGameDialogueCorpusPublic-main/data/ChronoTrigger/ChronoTrigger': True,\n",
       " '../VideoGameLynn/VideoGameDialogueCorpusPublic-main/data/KingdomHearts/KingdomHearts_B': True,\n",
       " '../VideoGameLynn/VideoGameDialogueCorpusPublic-main/data/KingdomHearts/KingdomHearts2': True,\n",
       " '../VideoGameLynn/VideoGameDialogueCorpusPublic-main/data/KingdomHearts/KingdomHearts3D': True,\n",
       " '../VideoGameLynn/VideoGameDialogueCorpusPublic-main/data/KingdomHearts/KingdomHearts': True,\n",
       " '../VideoGameLynn/VideoGameDialogueCorpusPublic-main/data/KingdomHearts/KingdomHearts3': True,\n",
       " '../VideoGameLynn/VideoGameDialogueCorpusPublic-main/data/FinalFantasy/FFV': True,\n",
       " '../VideoGameLynn/VideoGameDialogueCorpusPublic-main/data/FinalFantasy/FFXIII-2': True,\n",
       " '../VideoGameLynn/VideoGameDialogueCorpusPublic-main/data/FinalFantasy/FFIX': True,\n",
       " '../VideoGameLynn/VideoGameDialogueCorpusPublic-main/data/FinalFantasy/FFX': True,\n",
       " '../VideoGameLynn/VideoGameDialogueCorpusPublic-main/data/FinalFantasy/FFVI_B': False,\n",
       " '../VideoGameLynn/VideoGameDialogueCorpusPublic-main/data/FinalFantasy/FFXIII-LR': True,\n",
       " '../VideoGameLynn/VideoGameDialogueCorpusPublic-main/data/FinalFantasy/FFXIII': True,\n",
       " '../VideoGameLynn/VideoGameDialogueCorpusPublic-main/data/FinalFantasy/FFXIV': False,\n",
       " '../VideoGameLynn/VideoGameDialogueCorpusPublic-main/data/FinalFantasy/FFXII': True,\n",
       " '../VideoGameLynn/VideoGameDialogueCorpusPublic-main/data/FinalFantasy/FFIII': True,\n",
       " '../VideoGameLynn/VideoGameDialogueCorpusPublic-main/data/FinalFantasy/FFI': True,\n",
       " '../VideoGameLynn/VideoGameDialogueCorpusPublic-main/data/FinalFantasy/FFX2': True,\n",
       " '../VideoGameLynn/VideoGameDialogueCorpusPublic-main/data/FinalFantasy/FFIV_DS': True,\n",
       " '../VideoGameLynn/VideoGameDialogueCorpusPublic-main/data/FinalFantasy/FFVI_C': True,\n",
       " '../VideoGameLynn/VideoGameDialogueCorpusPublic-main/data/FinalFantasy/FFX_B': True,\n",
       " '../VideoGameLynn/VideoGameDialogueCorpusPublic-main/data/FinalFantasy/FFVII': True,\n",
       " '../VideoGameLynn/VideoGameDialogueCorpusPublic-main/data/FinalFantasy/FFIV_B': True,\n",
       " '../VideoGameLynn/VideoGameDialogueCorpusPublic-main/data/FinalFantasy/FFIX_B': True,\n",
       " '../VideoGameLynn/VideoGameDialogueCorpusPublic-main/data/FinalFantasy/FFXV': True,\n",
       " '../VideoGameLynn/VideoGameDialogueCorpusPublic-main/data/FinalFantasy/FFVIII': True,\n",
       " '../VideoGameLynn/VideoGameDialogueCorpusPublic-main/data/FinalFantasy/FFII': True,\n",
       " '../VideoGameLynn/VideoGameDialogueCorpusPublic-main/data/FinalFantasy/FFXII_B': True,\n",
       " '../VideoGameLynn/VideoGameDialogueCorpusPublic-main/data/FinalFantasy/FFVII_Remake': True,\n",
       " '../VideoGameLynn/VideoGameDialogueCorpusPublic-main/data/FinalFantasy/FFVI': True,\n",
       " '../VideoGameLynn/VideoGameDialogueCorpusPublic-main/data/KingsQuest/KingsQuestChapters': True,\n",
       " '../VideoGameLynn/VideoGameDialogueCorpusPublic-main/data/KingsQuest/KingsQuest4': True,\n",
       " '../VideoGameLynn/VideoGameDialogueCorpusPublic-main/data/KingsQuest/KingsQuest5': True,\n",
       " '../VideoGameLynn/VideoGameDialogueCorpusPublic-main/data/KingsQuest/KingsQuest7': False,\n",
       " '../VideoGameLynn/VideoGameDialogueCorpusPublic-main/data/KingsQuest/KingsQuest3': False,\n",
       " '../VideoGameLynn/VideoGameDialogueCorpusPublic-main/data/KingsQuest/KingsQuest8': False,\n",
       " '../VideoGameLynn/VideoGameDialogueCorpusPublic-main/data/KingsQuest/KingsQuest6': True,\n",
       " '../VideoGameLynn/VideoGameDialogueCorpusPublic-main/data/KingsQuest/KingsQuest2': False,\n",
       " '../VideoGameLynn/VideoGameDialogueCorpusPublic-main/data/KingsQuest/KingsQuest1': True,\n",
       " '../VideoGameLynn/VideoGameDialogueCorpusPublic-main/data/Hades/Hades': True}"
      ]
     },
     "execution_count": 7,
     "metadata": {},
     "output_type": "execute_result"
    }
   ],
   "source": [
    "lynn_completed"
   ]
  },
  {
   "cell_type": "code",
   "execution_count": 5,
   "id": "9df2e359-8a98-4195-a85c-a6451d97f07c",
   "metadata": {
    "tags": []
   },
   "outputs": [
    {
     "ename": "KeyError",
     "evalue": "'../VideoGameLynn/VideoGameDialogueCorpusPublic-main/data/Persona/Persona3'",
     "output_type": "error",
     "traceback": [
      "\u001b[0;31m---------------------------------------------------------------------------\u001b[0m",
      "\u001b[0;31mKeyError\u001b[0m                                  Traceback (most recent call last)",
      "Cell \u001b[0;32mIn[5], line 2\u001b[0m\n\u001b[1;32m      1\u001b[0m \u001b[38;5;66;03m# Combine lynn and michael\u001b[39;00m\n\u001b[0;32m----> 2\u001b[0m combined \u001b[38;5;241m=\u001b[39m {path: \u001b[38;5;28;01mTrue\u001b[39;00m \u001b[38;5;28;01mif\u001b[39;00m lynn_completed[path] \u001b[38;5;129;01mor\u001b[39;00m michael_completed[path] \u001b[38;5;28;01melse\u001b[39;00m \u001b[38;5;28;01mFalse\u001b[39;00m \u001b[38;5;28;01mfor\u001b[39;00m path \u001b[38;5;129;01min\u001b[39;00m lynn_completed}\n\u001b[1;32m      3\u001b[0m \u001b[38;5;28msum\u001b[39m(combined\u001b[38;5;241m.\u001b[39mvalues())\n",
      "Cell \u001b[0;32mIn[5], line 2\u001b[0m, in \u001b[0;36m<dictcomp>\u001b[0;34m(.0)\u001b[0m\n\u001b[1;32m      1\u001b[0m \u001b[38;5;66;03m# Combine lynn and michael\u001b[39;00m\n\u001b[0;32m----> 2\u001b[0m combined \u001b[38;5;241m=\u001b[39m {path: \u001b[38;5;28;01mTrue\u001b[39;00m \u001b[38;5;28;01mif\u001b[39;00m lynn_completed[path] \u001b[38;5;129;01mor\u001b[39;00m michael_completed[path] \u001b[38;5;28;01melse\u001b[39;00m \u001b[38;5;28;01mFalse\u001b[39;00m \u001b[38;5;28;01mfor\u001b[39;00m path \u001b[38;5;129;01min\u001b[39;00m lynn_completed}\n\u001b[1;32m      3\u001b[0m \u001b[38;5;28msum\u001b[39m(combined\u001b[38;5;241m.\u001b[39mvalues())\n",
      "\u001b[0;31mKeyError\u001b[0m: '../VideoGameLynn/VideoGameDialogueCorpusPublic-main/data/Persona/Persona3'"
     ]
    }
   ],
   "source": [
    "# Combine lynn and michael\n",
    "combined = {path: True if lynn_completed[path] or michael_completed[path] else False for path in lynn_completed}\n",
    "sum(combined.values())"
   ]
  },
  {
   "cell_type": "code",
   "execution_count": 6,
   "id": "7b229cd3-f6ed-4164-b8f9-a17e387576fb",
   "metadata": {
    "tags": []
   },
   "outputs": [
    {
     "name": "stdout",
     "output_type": "stream",
     "text": [
      "69\n"
     ]
    },
    {
     "data": {
      "text/plain": [
       "69"
      ]
     },
     "execution_count": 6,
     "metadata": {},
     "output_type": "execute_result"
    }
   ],
   "source": [
    "raw_completed = dict()\n",
    "\n",
    "for dirpath in fpaths:\n",
    "    raw_completed[dirpath] = False\n",
    "    if 'raw' in os.listdir(dirpath):\n",
    "        raw_completed[dirpath] = True\n",
    "print(len(raw_completed))\n",
    "sum(raw_completed.values())"
   ]
  }
 ],
 "metadata": {
  "kernelspec": {
   "display_name": "Python 3 (ipykernel)",
   "language": "python",
   "name": "python3"
  },
  "language_info": {
   "codemirror_mode": {
    "name": "ipython",
    "version": 3
   },
   "file_extension": ".py",
   "mimetype": "text/x-python",
   "name": "python",
   "nbconvert_exporter": "python",
   "pygments_lexer": "ipython3",
   "version": "3.11.3"
  }
 },
 "nbformat": 4,
 "nbformat_minor": 5
}
