{
 "cells": [
  {
   "cell_type": "markdown",
   "id": "9a747636-afdf-40b3-a5a2-b79e7b67b802",
   "metadata": {},
   "source": [
    "# Check how much data is parsed"
   ]
  },
  {
   "cell_type": "code",
   "execution_count": null,
   "id": "00207b2f-91c9-4ead-87dc-9ac7a3e305fe",
   "metadata": {},
   "outputs": [],
   "source": [
    "from glob import glob\n",
    "import os\n",
    "\n",
    "data_dirpath = '../data/VideoGameDialogueCorpusPublic-main/data/'\n",
    "search_dirpath = os.path.join(data_dirpath, '*/*')\n",
    "fpaths = [path for path in glob(search_dirpath) if os.path.isdir(path) and not 'Test' in path]"
   ]
  }
 ],
 "metadata": {
  "kernelspec": {
   "display_name": "Python 3 (ipykernel)",
   "language": "python",
   "name": "python3"
  },
  "language_info": {
   "codemirror_mode": {
    "name": "ipython",
    "version": 3
   },
   "file_extension": ".py",
   "mimetype": "text/x-python",
   "name": "python",
   "nbconvert_exporter": "python",
   "pygments_lexer": "ipython3",
   "version": "3.11.3"
  }
 },
 "nbformat": 4,
 "nbformat_minor": 5
}
